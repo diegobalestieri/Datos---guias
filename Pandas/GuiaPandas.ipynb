{
 "cells": [
  {
   "cell_type": "markdown",
   "metadata": {},
   "source": [
    "**1- Dado el registro de notas de los alumnos de la forma (padrón, materia, nota, fecha). Se pide\n",
    "resolver utilizando Pandas:**\n",
    "\n",
    "A. Cuál es el promedio de notas\n",
    "\n",
    "B. Cuál es la nota más alta y la nota más baja registrada durante el año 2019.\n",
    "\n",
    "C. Cuál es el padrón con mayor cantidad de materias aprobadas durante el último\n",
    "cuatrimestre.\n",
    "\n",
    "D. Cuál es la nota promedio\n",
    "\n",
    "E. Cuál es la nota promedio por padrón.\n"
   ]
  },
  {
   "cell_type": "code",
   "execution_count": 38,
   "metadata": {},
   "outputs": [],
   "source": [
    "import pandas as pd\n",
    "import numpy as np"
   ]
  },
  {
   "cell_type": "code",
   "execution_count": 2,
   "metadata": {},
   "outputs": [
    {
     "data": {
      "text/html": [
       "<div>\n",
       "<style scoped>\n",
       "    .dataframe tbody tr th:only-of-type {\n",
       "        vertical-align: middle;\n",
       "    }\n",
       "\n",
       "    .dataframe tbody tr th {\n",
       "        vertical-align: top;\n",
       "    }\n",
       "\n",
       "    .dataframe thead th {\n",
       "        text-align: right;\n",
       "    }\n",
       "</style>\n",
       "<table border=\"1\" class=\"dataframe\">\n",
       "  <thead>\n",
       "    <tr style=\"text-align: right;\">\n",
       "      <th></th>\n",
       "      <th>Padron</th>\n",
       "      <th>Materia</th>\n",
       "      <th>Nota</th>\n",
       "      <th>Fecha</th>\n",
       "    </tr>\n",
       "  </thead>\n",
       "  <tbody>\n",
       "    <tr>\n",
       "      <td>0</td>\n",
       "      <td>101070</td>\n",
       "      <td>Taller</td>\n",
       "      <td>7</td>\n",
       "      <td>12/08/2018</td>\n",
       "    </tr>\n",
       "    <tr>\n",
       "      <td>1</td>\n",
       "      <td>101091</td>\n",
       "      <td>Algoritmos 3</td>\n",
       "      <td>0</td>\n",
       "      <td>13/02/2018</td>\n",
       "    </tr>\n",
       "    <tr>\n",
       "      <td>2</td>\n",
       "      <td>101055</td>\n",
       "      <td>Algoritmos 1</td>\n",
       "      <td>8</td>\n",
       "      <td>19/03/2019</td>\n",
       "    </tr>\n",
       "    <tr>\n",
       "      <td>3</td>\n",
       "      <td>101058</td>\n",
       "      <td>Fisica 2</td>\n",
       "      <td>0</td>\n",
       "      <td>21/12/2019</td>\n",
       "    </tr>\n",
       "    <tr>\n",
       "      <td>4</td>\n",
       "      <td>101092</td>\n",
       "      <td>Algoritmos 1</td>\n",
       "      <td>8</td>\n",
       "      <td>19/11/2018</td>\n",
       "    </tr>\n",
       "  </tbody>\n",
       "</table>\n",
       "</div>"
      ],
      "text/plain": [
       "   Padron       Materia  Nota       Fecha\n",
       "0  101070        Taller     7  12/08/2018\n",
       "1  101091  Algoritmos 3     0  13/02/2018\n",
       "2  101055  Algoritmos 1     8  19/03/2019\n",
       "3  101058      Fisica 2     0  21/12/2019\n",
       "4  101092  Algoritmos 1     8  19/11/2018"
      ]
     },
     "execution_count": 2,
     "metadata": {},
     "output_type": "execute_result"
    }
   ],
   "source": [
    "df = pd.read_csv(\"ej1.csv\")\n",
    "df.head()"
   ]
  },
  {
   "cell_type": "code",
   "execution_count": 4,
   "metadata": {},
   "outputs": [
    {
     "name": "stdout",
     "output_type": "stream",
     "text": [
      "El promedio de notas es:  5.029\n"
     ]
    }
   ],
   "source": [
    "#A\n",
    "print(\"El promedio de notas es: \", df[\"Nota\"].mean())"
   ]
  },
  {
   "cell_type": "code",
   "execution_count": 25,
   "metadata": {},
   "outputs": [
    {
     "name": "stdout",
     "output_type": "stream",
     "text": [
      "La nota mas alta del 2019 es:  10\n",
      "La nota mas baja del 2019 es:  0\n"
     ]
    }
   ],
   "source": [
    "#B\n",
    "df[\"Fecha\"] = pd.to_datetime(df[\"Fecha\"])\n",
    "df_2019 = df.loc[df[\"Fecha\"].dt.year == 2019]\n",
    "print(\"La nota mas alta del 2019 es: \", df_2019[\"Nota\"].nlargest(1).to_list()[0])\n",
    "print(\"La nota mas baja del 2019 es: \",df_2019[\"Nota\"].nsmallest(1).iloc[0])"
   ]
  },
  {
   "cell_type": "markdown",
   "metadata": {},
   "source": [
    "El to_list es para sacarse de encima el índice de la serie que devuelve nlargest y el [0] es para quedarse con el primer valor sin que sea una lista. La segunda opción con el iloc que filtra a la de posición 0 es como mejor."
   ]
  },
  {
   "cell_type": "code",
   "execution_count": 30,
   "metadata": {},
   "outputs": [
    {
     "data": {
      "text/html": [
       "<div>\n",
       "<style scoped>\n",
       "    .dataframe tbody tr th:only-of-type {\n",
       "        vertical-align: middle;\n",
       "    }\n",
       "\n",
       "    .dataframe tbody tr th {\n",
       "        vertical-align: top;\n",
       "    }\n",
       "\n",
       "    .dataframe thead th {\n",
       "        text-align: right;\n",
       "    }\n",
       "</style>\n",
       "<table border=\"1\" class=\"dataframe\">\n",
       "  <thead>\n",
       "    <tr style=\"text-align: right;\">\n",
       "      <th></th>\n",
       "      <th>Aprobada</th>\n",
       "    </tr>\n",
       "    <tr>\n",
       "      <th>Padron</th>\n",
       "      <th></th>\n",
       "    </tr>\n",
       "  </thead>\n",
       "  <tbody>\n",
       "    <tr>\n",
       "      <td>101055</td>\n",
       "      <td>14.0</td>\n",
       "    </tr>\n",
       "  </tbody>\n",
       "</table>\n",
       "</div>"
      ],
      "text/plain": [
       "        Aprobada\n",
       "Padron          \n",
       "101055      14.0"
      ]
     },
     "execution_count": 30,
     "metadata": {},
     "output_type": "execute_result"
    }
   ],
   "source": [
    "#C\n",
    "df[\"Aprobada\"] = df[\"Nota\"] >= 4\n",
    "df.groupby(\"Padron\").agg({\"Aprobada\": sum}).nlargest(1, columns=\"Aprobada\")"
   ]
  },
  {
   "cell_type": "code",
   "execution_count": 36,
   "metadata": {},
   "outputs": [
    {
     "data": {
      "text/plain": [
       "101055"
      ]
     },
     "execution_count": 36,
     "metadata": {},
     "output_type": "execute_result"
    }
   ],
   "source": [
    "#C v2\n",
    "df[\"Aprobada\"] = df[\"Nota\"] >= 4\n",
    "df.groupby(\"Padron\").agg({\"Aprobada\": sum}).reset_index().nlargest(1, columns=\"Aprobada\")[\"Padron\"].iloc[0]"
   ]
  },
  {
   "cell_type": "code",
   "execution_count": 39,
   "metadata": {},
   "outputs": [
    {
     "data": {
      "text/plain": [
       "Padron\n",
       "101055    6.0\n",
       "Name: Nota, dtype: float64"
      ]
     },
     "execution_count": 39,
     "metadata": {},
     "output_type": "execute_result"
    }
   ],
   "source": [
    "#D - Asumo que pide la nota promedio del padrón anterior\n",
    "df.groupby(\"Padron\").agg({\"Aprobada\": sum, \"Nota\": np.mean}).nlargest(1, columns = \"Aprobada\")[\"Nota\"]"
   ]
  },
  {
   "cell_type": "code",
   "execution_count": 42,
   "metadata": {},
   "outputs": [
    {
     "data": {
      "text/html": [
       "<div>\n",
       "<style scoped>\n",
       "    .dataframe tbody tr th:only-of-type {\n",
       "        vertical-align: middle;\n",
       "    }\n",
       "\n",
       "    .dataframe tbody tr th {\n",
       "        vertical-align: top;\n",
       "    }\n",
       "\n",
       "    .dataframe thead th {\n",
       "        text-align: right;\n",
       "    }\n",
       "</style>\n",
       "<table border=\"1\" class=\"dataframe\">\n",
       "  <thead>\n",
       "    <tr style=\"text-align: right;\">\n",
       "      <th></th>\n",
       "      <th>Nota promedio</th>\n",
       "    </tr>\n",
       "    <tr>\n",
       "      <th>Padron</th>\n",
       "      <th></th>\n",
       "    </tr>\n",
       "  </thead>\n",
       "  <tbody>\n",
       "    <tr>\n",
       "      <td>101000</td>\n",
       "      <td>4.000000</td>\n",
       "    </tr>\n",
       "    <tr>\n",
       "      <td>101001</td>\n",
       "      <td>5.000000</td>\n",
       "    </tr>\n",
       "    <tr>\n",
       "      <td>101002</td>\n",
       "      <td>5.571429</td>\n",
       "    </tr>\n",
       "    <tr>\n",
       "      <td>101003</td>\n",
       "      <td>4.846154</td>\n",
       "    </tr>\n",
       "    <tr>\n",
       "      <td>101004</td>\n",
       "      <td>5.888889</td>\n",
       "    </tr>\n",
       "  </tbody>\n",
       "</table>\n",
       "</div>"
      ],
      "text/plain": [
       "        Nota promedio\n",
       "Padron               \n",
       "101000       4.000000\n",
       "101001       5.000000\n",
       "101002       5.571429\n",
       "101003       4.846154\n",
       "101004       5.888889"
      ]
     },
     "execution_count": 42,
     "metadata": {},
     "output_type": "execute_result"
    }
   ],
   "source": [
    "#E\n",
    "nota_promedio_x_padron = df.groupby(\"Padron\").agg({\"Nota\": np.mean})\n",
    "nota_promedio_x_padron.columns = [\"Nota promedio\"]\n",
    "nota_promedio_x_padron.head()"
   ]
  },
  {
   "cell_type": "markdown",
   "metadata": {},
   "source": [
    "**2- Se tiene un registro de transacciones bancarias, de la forma (nro de transacción, tipo de\n",
    "transacción, cuenta origen, cuenta destino, fecha, hora, monto). Se pide resolver en Pandas:**\n",
    "\n",
    "- A. Validar que todas las transacciones cuenten con un tipo de transacción.\n",
    "- B. Validar que para las transacciones del tipo transferencia, exista siempre tanto cuenta origen como cuenta destino.\n",
    "- C. Verificar que todas las transacciones del tipo transferencia, depósito y extracción cuenten con montos distintos de cero.\n",
    "- D. Indicar cuáles fueron las 10 transacciones de mayor monto.\n",
    "- E. Indicar cuál es el tipo de transacción que registra mayor monto promedio.\n",
    "- F. Indicar cuáles son las 5 cuentas con mayor cantidad de transacciones.\n",
    "- G. Indicar cuáles son las 5 cuentas con mayor monto involucrado.\n",
    "- H. Para el tipo de transacción con mayor cantidad de monto promedio, indicar cuales son las 5 cuentas con más transacciones"
   ]
  },
  {
   "cell_type": "code",
   "execution_count": 52,
   "metadata": {},
   "outputs": [],
   "source": [
    "transacciones = pd.read_csv(\"ej2.csv\")"
   ]
  },
  {
   "cell_type": "code",
   "execution_count": 53,
   "metadata": {},
   "outputs": [
    {
     "data": {
      "text/html": [
       "<div>\n",
       "<style scoped>\n",
       "    .dataframe tbody tr th:only-of-type {\n",
       "        vertical-align: middle;\n",
       "    }\n",
       "\n",
       "    .dataframe tbody tr th {\n",
       "        vertical-align: top;\n",
       "    }\n",
       "\n",
       "    .dataframe thead th {\n",
       "        text-align: right;\n",
       "    }\n",
       "</style>\n",
       "<table border=\"1\" class=\"dataframe\">\n",
       "  <thead>\n",
       "    <tr style=\"text-align: right;\">\n",
       "      <th></th>\n",
       "      <th>nro_transaccion</th>\n",
       "      <th>tipo</th>\n",
       "      <th>origen</th>\n",
       "      <th>destino</th>\n",
       "      <th>fecha</th>\n",
       "      <th>hora</th>\n",
       "      <th>monto</th>\n",
       "    </tr>\n",
       "  </thead>\n",
       "  <tbody>\n",
       "    <tr>\n",
       "      <td>0</td>\n",
       "      <td>1</td>\n",
       "      <td>extraccion</td>\n",
       "      <td>125-95-0734</td>\n",
       "      <td>270-07-8066</td>\n",
       "      <td>05/30/2018</td>\n",
       "      <td>11:51 PM</td>\n",
       "      <td>8418.72</td>\n",
       "    </tr>\n",
       "    <tr>\n",
       "      <td>1</td>\n",
       "      <td>2</td>\n",
       "      <td>deposito</td>\n",
       "      <td>287-84-5589</td>\n",
       "      <td>811-03-1465</td>\n",
       "      <td>03/12/2019</td>\n",
       "      <td>11:37 PM</td>\n",
       "      <td>2807.43</td>\n",
       "    </tr>\n",
       "    <tr>\n",
       "      <td>2</td>\n",
       "      <td>3</td>\n",
       "      <td>transferencia</td>\n",
       "      <td>377-01-6391</td>\n",
       "      <td>348-88-7758</td>\n",
       "      <td>07/28/2017</td>\n",
       "      <td>7:21 PM</td>\n",
       "      <td>1459.37</td>\n",
       "    </tr>\n",
       "    <tr>\n",
       "      <td>3</td>\n",
       "      <td>4</td>\n",
       "      <td>deposito</td>\n",
       "      <td>503-44-1114</td>\n",
       "      <td>573-71-1411</td>\n",
       "      <td>07/16/2018</td>\n",
       "      <td>12:08 AM</td>\n",
       "      <td>2866.63</td>\n",
       "    </tr>\n",
       "    <tr>\n",
       "      <td>4</td>\n",
       "      <td>5</td>\n",
       "      <td>extraccion</td>\n",
       "      <td>370-19-4445</td>\n",
       "      <td>584-37-8147</td>\n",
       "      <td>09/19/2019</td>\n",
       "      <td>9:49 AM</td>\n",
       "      <td>5534.98</td>\n",
       "    </tr>\n",
       "  </tbody>\n",
       "</table>\n",
       "</div>"
      ],
      "text/plain": [
       "   nro_transaccion           tipo       origen      destino       fecha  \\\n",
       "0                1     extraccion  125-95-0734  270-07-8066  05/30/2018   \n",
       "1                2       deposito  287-84-5589  811-03-1465  03/12/2019   \n",
       "2                3  transferencia  377-01-6391  348-88-7758  07/28/2017   \n",
       "3                4       deposito  503-44-1114  573-71-1411  07/16/2018   \n",
       "4                5     extraccion  370-19-4445  584-37-8147  09/19/2019   \n",
       "\n",
       "       hora    monto  \n",
       "0  11:51 PM  8418.72  \n",
       "1  11:37 PM  2807.43  \n",
       "2   7:21 PM  1459.37  \n",
       "3  12:08 AM  2866.63  \n",
       "4   9:49 AM  5534.98  "
      ]
     },
     "execution_count": 53,
     "metadata": {},
     "output_type": "execute_result"
    }
   ],
   "source": [
    "transacciones.head()"
   ]
  },
  {
   "cell_type": "code",
   "execution_count": 54,
   "metadata": {},
   "outputs": [
    {
     "data": {
      "text/plain": [
       "False"
      ]
     },
     "execution_count": 54,
     "metadata": {},
     "output_type": "execute_result"
    }
   ],
   "source": [
    "#A\n",
    "transacciones[\"tipo\"].isna().any()"
   ]
  },
  {
   "cell_type": "code",
   "execution_count": 56,
   "metadata": {},
   "outputs": [
    {
     "data": {
      "text/plain": [
       "False"
      ]
     },
     "execution_count": 56,
     "metadata": {},
     "output_type": "execute_result"
    }
   ],
   "source": [
    "#B\n",
    "transferencias = transacciones.loc[transacciones[\"tipo\"] == \"transferencia\"]\n",
    "transferencias[\"origen\"].isna().any() or transferencias[\"destino\"].isna().any()"
   ]
  },
  {
   "cell_type": "code",
   "execution_count": 51,
   "metadata": {},
   "outputs": [],
   "source": [
    "#C\n"
   ]
  },
  {
   "cell_type": "code",
   "execution_count": null,
   "metadata": {},
   "outputs": [],
   "source": []
  }
 ],
 "metadata": {
  "kernelspec": {
   "display_name": "Python 3",
   "language": "python",
   "name": "python3"
  },
  "language_info": {
   "codemirror_mode": {
    "name": "ipython",
    "version": 3
   },
   "file_extension": ".py",
   "mimetype": "text/x-python",
   "name": "python",
   "nbconvert_exporter": "python",
   "pygments_lexer": "ipython3",
   "version": "3.7.3"
  }
 },
 "nbformat": 4,
 "nbformat_minor": 2
}
