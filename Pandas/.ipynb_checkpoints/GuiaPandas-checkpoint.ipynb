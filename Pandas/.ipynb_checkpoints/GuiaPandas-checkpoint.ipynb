{
 "cells": [
  {
   "cell_type": "markdown",
   "metadata": {},
   "source": [
    "**1- Dado el registro de notas de los alumnos de la forma (padrón, materia, nota, fecha). Se pide\n",
    "resolver utilizando Pandas:**\n",
    "\n",
    "A. Cuál es el promedio de notas\n",
    "\n",
    "B. Cuál es la nota más alta y la nota más baja registrada durante el año 2019.\n",
    "\n",
    "C. Cuál es el padrón con mayor cantidad de materias aprobadas durante el último\n",
    "cuatrimestre.\n",
    "\n",
    "D. Cuál es la nota promedio\n",
    "\n",
    "E. Cuál es la nota promedio por padrón.\n"
   ]
  },
  {
   "cell_type": "code",
   "execution_count": 38,
   "metadata": {},
   "outputs": [],
   "source": [
    "import pandas as pd\n",
    "import numpy as np"
   ]
  },
  {
   "cell_type": "code",
   "execution_count": 2,
   "metadata": {},
   "outputs": [
    {
     "data": {
      "text/html": [
       "<div>\n",
       "<style scoped>\n",
       "    .dataframe tbody tr th:only-of-type {\n",
       "        vertical-align: middle;\n",
       "    }\n",
       "\n",
       "    .dataframe tbody tr th {\n",
       "        vertical-align: top;\n",
       "    }\n",
       "\n",
       "    .dataframe thead th {\n",
       "        text-align: right;\n",
       "    }\n",
       "</style>\n",
       "<table border=\"1\" class=\"dataframe\">\n",
       "  <thead>\n",
       "    <tr style=\"text-align: right;\">\n",
       "      <th></th>\n",
       "      <th>Padron</th>\n",
       "      <th>Materia</th>\n",
       "      <th>Nota</th>\n",
       "      <th>Fecha</th>\n",
       "    </tr>\n",
       "  </thead>\n",
       "  <tbody>\n",
       "    <tr>\n",
       "      <td>0</td>\n",
       "      <td>101070</td>\n",
       "      <td>Taller</td>\n",
       "      <td>7</td>\n",
       "      <td>12/08/2018</td>\n",
       "    </tr>\n",
       "    <tr>\n",
       "      <td>1</td>\n",
       "      <td>101091</td>\n",
       "      <td>Algoritmos 3</td>\n",
       "      <td>0</td>\n",
       "      <td>13/02/2018</td>\n",
       "    </tr>\n",
       "    <tr>\n",
       "      <td>2</td>\n",
       "      <td>101055</td>\n",
       "      <td>Algoritmos 1</td>\n",
       "      <td>8</td>\n",
       "      <td>19/03/2019</td>\n",
       "    </tr>\n",
       "    <tr>\n",
       "      <td>3</td>\n",
       "      <td>101058</td>\n",
       "      <td>Fisica 2</td>\n",
       "      <td>0</td>\n",
       "      <td>21/12/2019</td>\n",
       "    </tr>\n",
       "    <tr>\n",
       "      <td>4</td>\n",
       "      <td>101092</td>\n",
       "      <td>Algoritmos 1</td>\n",
       "      <td>8</td>\n",
       "      <td>19/11/2018</td>\n",
       "    </tr>\n",
       "  </tbody>\n",
       "</table>\n",
       "</div>"
      ],
      "text/plain": [
       "   Padron       Materia  Nota       Fecha\n",
       "0  101070        Taller     7  12/08/2018\n",
       "1  101091  Algoritmos 3     0  13/02/2018\n",
       "2  101055  Algoritmos 1     8  19/03/2019\n",
       "3  101058      Fisica 2     0  21/12/2019\n",
       "4  101092  Algoritmos 1     8  19/11/2018"
      ]
     },
     "execution_count": 2,
     "metadata": {},
     "output_type": "execute_result"
    }
   ],
   "source": [
    "df = pd.read_csv(\"ej1.csv\")\n",
    "df.head()"
   ]
  },
  {
   "cell_type": "code",
   "execution_count": 4,
   "metadata": {},
   "outputs": [
    {
     "name": "stdout",
     "output_type": "stream",
     "text": [
      "El promedio de notas es:  5.029\n"
     ]
    }
   ],
   "source": [
    "#A\n",
    "print(\"El promedio de notas es: \", df[\"Nota\"].mean())"
   ]
  },
  {
   "cell_type": "code",
   "execution_count": 25,
   "metadata": {},
   "outputs": [
    {
     "name": "stdout",
     "output_type": "stream",
     "text": [
      "La nota mas alta del 2019 es:  10\n",
      "La nota mas baja del 2019 es:  0\n"
     ]
    }
   ],
   "source": [
    "#B\n",
    "df[\"Fecha\"] = pd.to_datetime(df[\"Fecha\"])\n",
    "df_2019 = df.loc[df[\"Fecha\"].dt.year == 2019]\n",
    "print(\"La nota mas alta del 2019 es: \", df_2019[\"Nota\"].nlargest(1).to_list()[0])\n",
    "print(\"La nota mas baja del 2019 es: \",df_2019[\"Nota\"].nsmallest(1).iloc[0])"
   ]
  },
  {
   "cell_type": "markdown",
   "metadata": {},
   "source": [
    "El to_list es para sacarse de encima el índice de la serie que devuelve nlargest y el [0] es para quedarse con el primer valor sin que sea una lista. La segunda opción con el iloc que filtra a la de posición 0 es como mejor."
   ]
  },
  {
   "cell_type": "code",
   "execution_count": 30,
   "metadata": {},
   "outputs": [
    {
     "data": {
      "text/html": [
       "<div>\n",
       "<style scoped>\n",
       "    .dataframe tbody tr th:only-of-type {\n",
       "        vertical-align: middle;\n",
       "    }\n",
       "\n",
       "    .dataframe tbody tr th {\n",
       "        vertical-align: top;\n",
       "    }\n",
       "\n",
       "    .dataframe thead th {\n",
       "        text-align: right;\n",
       "    }\n",
       "</style>\n",
       "<table border=\"1\" class=\"dataframe\">\n",
       "  <thead>\n",
       "    <tr style=\"text-align: right;\">\n",
       "      <th></th>\n",
       "      <th>Aprobada</th>\n",
       "    </tr>\n",
       "    <tr>\n",
       "      <th>Padron</th>\n",
       "      <th></th>\n",
       "    </tr>\n",
       "  </thead>\n",
       "  <tbody>\n",
       "    <tr>\n",
       "      <td>101055</td>\n",
       "      <td>14.0</td>\n",
       "    </tr>\n",
       "  </tbody>\n",
       "</table>\n",
       "</div>"
      ],
      "text/plain": [
       "        Aprobada\n",
       "Padron          \n",
       "101055      14.0"
      ]
     },
     "execution_count": 30,
     "metadata": {},
     "output_type": "execute_result"
    }
   ],
   "source": [
    "#C\n",
    "df[\"Aprobada\"] = df[\"Nota\"] >= 4\n",
    "df.groupby(\"Padron\").agg({\"Aprobada\": sum}).nlargest(1, columns=\"Aprobada\")"
   ]
  },
  {
   "cell_type": "code",
   "execution_count": 36,
   "metadata": {},
   "outputs": [
    {
     "data": {
      "text/plain": [
       "101055"
      ]
     },
     "execution_count": 36,
     "metadata": {},
     "output_type": "execute_result"
    }
   ],
   "source": [
    "#C v2\n",
    "df[\"Aprobada\"] = df[\"Nota\"] >= 4\n",
    "df.groupby(\"Padron\").agg({\"Aprobada\": sum}).reset_index().nlargest(1, columns=\"Aprobada\")[\"Padron\"].iloc[0]"
   ]
  },
  {
   "cell_type": "code",
   "execution_count": 39,
   "metadata": {},
   "outputs": [
    {
     "data": {
      "text/plain": [
       "Padron\n",
       "101055    6.0\n",
       "Name: Nota, dtype: float64"
      ]
     },
     "execution_count": 39,
     "metadata": {},
     "output_type": "execute_result"
    }
   ],
   "source": [
    "#D - Asumo que pide la nota promedio del padrón anterior\n",
    "df.groupby(\"Padron\").agg({\"Aprobada\": sum, \"Nota\": np.mean}).nlargest(1, columns = \"Aprobada\")[\"Nota\"]"
   ]
  },
  {
   "cell_type": "code",
   "execution_count": 42,
   "metadata": {},
   "outputs": [
    {
     "data": {
      "text/html": [
       "<div>\n",
       "<style scoped>\n",
       "    .dataframe tbody tr th:only-of-type {\n",
       "        vertical-align: middle;\n",
       "    }\n",
       "\n",
       "    .dataframe tbody tr th {\n",
       "        vertical-align: top;\n",
       "    }\n",
       "\n",
       "    .dataframe thead th {\n",
       "        text-align: right;\n",
       "    }\n",
       "</style>\n",
       "<table border=\"1\" class=\"dataframe\">\n",
       "  <thead>\n",
       "    <tr style=\"text-align: right;\">\n",
       "      <th></th>\n",
       "      <th>Nota promedio</th>\n",
       "    </tr>\n",
       "    <tr>\n",
       "      <th>Padron</th>\n",
       "      <th></th>\n",
       "    </tr>\n",
       "  </thead>\n",
       "  <tbody>\n",
       "    <tr>\n",
       "      <td>101000</td>\n",
       "      <td>4.000000</td>\n",
       "    </tr>\n",
       "    <tr>\n",
       "      <td>101001</td>\n",
       "      <td>5.000000</td>\n",
       "    </tr>\n",
       "    <tr>\n",
       "      <td>101002</td>\n",
       "      <td>5.571429</td>\n",
       "    </tr>\n",
       "    <tr>\n",
       "      <td>101003</td>\n",
       "      <td>4.846154</td>\n",
       "    </tr>\n",
       "    <tr>\n",
       "      <td>101004</td>\n",
       "      <td>5.888889</td>\n",
       "    </tr>\n",
       "  </tbody>\n",
       "</table>\n",
       "</div>"
      ],
      "text/plain": [
       "        Nota promedio\n",
       "Padron               \n",
       "101000       4.000000\n",
       "101001       5.000000\n",
       "101002       5.571429\n",
       "101003       4.846154\n",
       "101004       5.888889"
      ]
     },
     "execution_count": 42,
     "metadata": {},
     "output_type": "execute_result"
    }
   ],
   "source": [
    "#E\n",
    "nota_promedio_x_padron = df.groupby(\"Padron\").agg({\"Nota\": np.mean})\n",
    "nota_promedio_x_padron.columns = [\"Nota promedio\"]\n",
    "nota_promedio_x_padron.head()"
   ]
  },
  {
   "cell_type": "code",
   "execution_count": null,
   "metadata": {},
   "outputs": [],
   "source": []
  }
 ],
 "metadata": {
  "kernelspec": {
   "display_name": "Python 3",
   "language": "python",
   "name": "python3"
  },
  "language_info": {
   "codemirror_mode": {
    "name": "ipython",
    "version": 3
   },
   "file_extension": ".py",
   "mimetype": "text/x-python",
   "name": "python",
   "nbconvert_exporter": "python",
   "pygments_lexer": "ipython3",
   "version": "3.7.3"
  }
 },
 "nbformat": 4,
 "nbformat_minor": 2
}
