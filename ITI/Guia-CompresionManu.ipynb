{
 "cells": [
  {
   "cell_type": "markdown",
   "metadata": {},
   "source": [
    "**1. Se tiene un archivo con 10 caracteres en total formado por tres caracteres distintos (ej:\n",
    "ABC). De todos los archivos posibles con estas características mostrar el archivo de máxima\n",
    "entropía que se pueda comprimir mejor usando LZ77. No es necesario comprimir el archivo.**"
   ]
  },
  {
   "cell_type": "markdown",
   "metadata": {},
   "source": [
    "no tengo NI idea. Podría ser algo del estilo \"ABCABABCAB\" porque repite \"ABCAB\" dos veces? Tiene entropía 1.522, pero tal vez se puede hacer otro que tenga mas entropía y que se comprima por algo parecido...\n",
    "Idea de diego: AAAABBBCCC\n",
    "Mia: ABCABCABCA"
   ]
  },
  {
   "cell_type": "markdown",
   "metadata": {},
   "source": [
    "**2. Explique en que casos sería una buena idea usar un compresor aritmético estático de orden 3**"
   ]
  },
  {
   "cell_type": "markdown",
   "metadata": {},
   "source": [
    "Tampoco se"
   ]
  },
  {
   "cell_type": "markdown",
   "metadata": {},
   "source": [
    "**3. Tenemos un compresor aritmético dinámico de orden 0 que trabaja procesando bit por bit. Si\n",
    "comprimimos un archivo que está formado por una serie de 1000 bits en 1 y luego dos bits\n",
    "en 0. ¿cuántos bits ocupará el archivo comprimido?**"
   ]
  },
  {
   "cell_type": "code",
   "execution_count": null,
   "metadata": {},
   "outputs": [],
   "source": []
  },
  {
   "cell_type": "markdown",
   "metadata": {},
   "source": [
    "**4. Una planta industrial decidió instalar un sistema monitor de temperatura, a fin de obtener registro de las variaciones que existen, y poder tomar acciones de ser necesario. Dicho monitor cuenta con un sensor que emite cada 5 segundos un registro (fecha: AAAAMMDD, hora: HH:MM:SS, Temperatura: XX.XX, Variación: Numérico, puede ser positivo o negativo).**\n",
    "\n",
    "**Más allá de las acciones inmediatas que se puedan tomar, esta información se quiere almacenar para realizar consultas o análisis a futuro. Se pide proponer una solución que permita almacenar estos datos comprimidos. Se pueden utilizar uno o más algoritmos de los vistos en clase, o proponer variantes adaptadas a la estructura específica de los datos con los que se cuentan. Se debe explicar cómo queda la estructura final del archivo, y el análisis en el que se basó la solución.**"
   ]
  },
  {
   "cell_type": "code",
   "execution_count": null,
   "metadata": {},
   "outputs": [],
   "source": []
  },
  {
   "cell_type": "markdown",
   "metadata": {},
   "source": [
    "**5. Determinar si las siguientes afirmaciones son V / F justificando la respuesta:**\n",
    "- A. La entropia es una aproximacion de cuanto se puede comprimir, dado que no podemos calcular cuanto se puede comprimir un string\n",
    "- B. Una forma posible de comprimir un stream de datos es utilizar un huffman estático.\n",
    "- C. La entropia puede utilizarse para construir clasificadores de texto.\n",
    "- D. Un compresor estadistico estático comprime siempre mejor que un compresor estadístico dinámico.\n",
    "- E. Podemos determinar la longitud final del archivo comprimido utilizando huffman estático de orden 1, calculando la entropía y multiplicándola por la cantidad de caracteres del archivo.\n",
    "- F. Tenemos 2 archivos, uno con longitud pequeña y el otro muy grande que se comprimen utilizando huffman estático de orden 5. Si observamos que tienen la mismas tablas de frecuencias podemos afirmar que el cociente entre el tamaño del archivo sin comprimir y el tamaño del archivo comprimido será similar.\n",
    "- G. Todo archivo con complejidad de kolmogorov baja tendrá una entropía de Shannon baja.\n",
    "- H. Es imposible que un archivo comprimido mediante huffman estático de orden 1 iguale la máxima compresión dada por la entropía del mismo."
   ]
  },
  {
   "cell_type": "markdown",
   "metadata": {},
   "source": [
    "- A: **VERDADERO** La entropía es una medida de \n",
    "- B: **FALSO** Dado que el Huffman estático requiere recorrer todos los datos para calcular la frecuencia de todos los simbolos. Esto imposible en un stream de datos, donde no conocemos al momento de comprimir que otros simbolos tendremos que comprimir a continuación. En cambio si se podría con Huffman dinámico, comenzando suponiendo todos los caracteres como equiprobables y luego actualizando las frecuencias  (y por ende las probabilidades) de los símbolos a medida que se comprime los simbolos que se reciben del stream.\n",
    "- C: **?**\n",
    "- D: **VERDADERO?** Dado que el estático ya calcula las probabilidades de todos los simbolos desde el comienzo de la compresión entonces asigna un espacio menor a los que son mas frecuentes. En cambio los dinámicos asumen equiprobabilidad y la ajustan a medida que comprimen, por lo tanto las primeras apariciones de datos mas frecuentes no se comprimen lo mejor posible. Por otro lado el dinámico asume que que todos los simbolos posibles son equiprobables y en el string podría no tener algún símbolo, haciendo que la tabla de frecuencias ocupe mas espacio del necesario.\n",
    "- E: **FALSO** Porque la entropía nos da la longitud promedio **en bits** de cada simbolo en el string. Y dado que Huffman no puede comprimir un simbolo en menos de 1 bit, no se puede  calcular la longitud del archivo comprimido haciendo entropía*#catacteres. En cambio, la entropía si es una buena aproximación de cuanto ocupará el archivo comprimido con compresión aritmética, dado que esta si permite comprimir un simbolo en menos de 1 bit.\n",
    "- F: NI IDEA\n",
    "- GG: **FALSO** 0 idea.\n",
    "- h: **FALSO** Si la entropía del archivo nos dice que necesitamos 1 bit por cada simbolo, tampoco se"
   ]
  },
  {
   "cell_type": "code",
   "execution_count": null,
   "metadata": {},
   "outputs": [],
   "source": []
  },
  {
   "cell_type": "code",
   "execution_count": null,
   "metadata": {},
   "outputs": [],
   "source": []
  },
  {
   "cell_type": "code",
   "execution_count": null,
   "metadata": {},
   "outputs": [],
   "source": []
  }
 ],
 "metadata": {
  "kernelspec": {
   "display_name": "Python 3",
   "language": "python",
   "name": "python3"
  },
  "language_info": {
   "codemirror_mode": {
    "name": "ipython",
    "version": 3
   },
   "file_extension": ".py",
   "mimetype": "text/x-python",
   "name": "python",
   "nbconvert_exporter": "python",
   "pygments_lexer": "ipython3",
   "version": "3.7.3"
  }
 },
 "nbformat": 4,
 "nbformat_minor": 4
}
