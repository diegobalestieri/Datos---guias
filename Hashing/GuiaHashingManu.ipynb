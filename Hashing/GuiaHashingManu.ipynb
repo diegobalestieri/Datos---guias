{
 "cells": [
  {
   "cell_type": "markdown",
   "metadata": {},
   "source": [
    "**1. Al construir una función de hashing perfecta y mínima con el método visto en clase explique por que es necesario que M sea mayor a N.**"
   ]
  },
  {
   "cell_type": "markdown",
   "metadata": {},
   "source": [
    "Duda: siempre aumenta i en hashing perfecto? \n",
    "      En serio se ahorra espacio y N puede ser igual a M? Yo asumo que perdes mucho espacio haciandolo igual"
   ]
  },
  {
   "cell_type": "markdown",
   "metadata": {},
   "source": [
    "Siendo N la cantidad de espacios en la tabla auxiliar G. M la cantidad de claves y cantidad de posiciones en la tabla de hashing. \n",
    "N tiene que ser menor a M dado que de esta manera, ocupamos menos espacio en la tabla auxiliar y el metodo Hash and Displace esta pensado para rehashear las que colisionen. Si N fuera mayor a M la tabla auxiliar ocupario mas espacio que la cantidad de claves que tenemos y no seria un mash minimo."
   ]
  },
  {
   "cell_type": "code",
   "execution_count": null,
   "metadata": {},
   "outputs": [],
   "source": []
  }
 ],
 "metadata": {
  "kernelspec": {
   "display_name": "Python 3",
   "language": "python",
   "name": "python3"
  },
  "language_info": {
   "codemirror_mode": {
    "name": "ipython",
    "version": 3
   },
   "file_extension": ".py",
   "mimetype": "text/x-python",
   "name": "python",
   "nbconvert_exporter": "python",
   "pygments_lexer": "ipython3",
   "version": "3.7.3"
  }
 },
 "nbformat": 4,
 "nbformat_minor": 4
}
