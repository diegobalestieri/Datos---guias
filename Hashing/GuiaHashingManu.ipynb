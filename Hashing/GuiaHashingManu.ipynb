{
 "cells": [
  {
   "cell_type": "markdown",
   "metadata": {},
   "source": [
    "**1. Al construir una función de hashing perfecta y mínima con el método visto en clase explique por que es necesario que M sea mayor a N.**"
   ]
  },
  {
   "cell_type": "markdown",
   "metadata": {},
   "source": [
    "Duda: siempre aumenta i en hashing perfecto? \n",
    "      En serio se ahorra espacio y N puede ser igual a M? Yo asumo que perdes mucho espacio haciandolo igual"
   ]
  },
  {
   "cell_type": "markdown",
   "metadata": {},
   "source": [
    "Siendo N la cantidad de espacios en la tabla auxiliar G. M la cantidad de claves y cantidad de posiciones en la tabla de hashing. \n",
    "N tiene que ser menor a M dado que de esta manera, ocupamos menos espacio en la tabla auxiliar y el metodo Hash and Displace esta pensado para rehashear las que colisionen. Si N fuera mayor a M la tabla auxiliar ocupario mas espacio que la cantidad de claves que tenemos y no seria un mash minimo."
   ]
  },
  {
   "cell_type": "markdown",
   "metadata": {},
   "source": [
    "**2. Encontrar el m mínimo y los parámetros a y b de forma tal que la función de hashing ax + b mod m sea perfecta para las siguientes claves: 1,3,5,12**"
   ]
  },
  {
   "cell_type": "markdown",
   "metadata": {},
   "source": [
    "La funcion de hashing h(x) = ax + b mod m es perfecta para las claves: [1,3,5,12]  con los valores:  \n",
    " a = 1  \n",
    " b = 1  \n",
    " m = 5  \n",
    "\n",
    "Queda:   \n",
    "h(1) = 2  \n",
    "h(3) = 4  \n",
    "h(5) = 1  \n",
    "h(12) = 3  \n",
    "Como no hay colisiones, resulta ser  *h(x) = x+1* mod 5 una funcion de hashin perfecta para las claves dadas\n"
   ]
  },
  {
   "cell_type": "markdown",
   "metadata": {},
   "source": [
    "**3. Tenemos vectores en 4 dimensiones y usamos “the hashing trick” usando el método de\n",
    "una única función de hashing (es decir sin signo) para reducirlos a 3 dimensiones.\n",
    "Sabemos que la matriz asociada a la función de hashing usada es la siguiente (por\n",
    "filas): [1,0,0; 0,0,1; 0,1,0; 1,0,0]. Se pide construir la función de hashing h(x) equivalente\n",
    "a la matriz presentada.**"
   ]
  },
  {
   "cell_type": "code",
   "execution_count": null,
   "metadata": {},
   "outputs": [],
   "source": []
  }
 ],
 "metadata": {
  "kernelspec": {
   "display_name": "Python 3",
   "language": "python",
   "name": "python3"
  },
  "language_info": {
   "codemirror_mode": {
    "name": "ipython",
    "version": 3
   },
   "file_extension": ".py",
   "mimetype": "text/x-python",
   "name": "python",
   "nbconvert_exporter": "python",
   "pygments_lexer": "ipython3",
   "version": "3.7.3"
  }
 },
 "nbformat": 4,
 "nbformat_minor": 4
}
