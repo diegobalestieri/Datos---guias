{
 "cells": [
  {
   "cell_type": "markdown",
   "metadata": {},
   "source": [
    "2- Se tiene un RDD registros de ventas de producto con la forma (fecha de venta, código de\n",
    "producto, precio de venta) y en otro RDD detalle de los productos con (código de producto,\n",
    "descripción del producto, categoría). Se pide resolver utilizando PySpark:"
   ]
  },
  {
   "cell_type": "code",
   "execution_count": 25,
   "metadata": {},
   "outputs": [
    {
     "data": {
      "text/plain": [
       "[['11/04/2019', '20', '338'],\n",
       " ['12/09/2019', '1', '412'],\n",
       " ['07/10/2019', '61', '395'],\n",
       " ['09/26/2019', '94', '52'],\n",
       " ['11/03/2019', '88', '216']]"
      ]
     },
     "execution_count": 25,
     "metadata": {},
     "output_type": "execute_result"
    }
   ],
   "source": [
    "ventas = sc.textFile('ej2.csv').map(lambda x: x.split(','))\n",
    "detalle = sc.textFile('ej2_productos.csv').map(lambda x: x.split(','))\n",
    "ventas.take(5)"
   ]
  },
  {
   "cell_type": "markdown",
   "metadata": {},
   "source": [
    "A. Cuál es el producto más vendido."
   ]
  },
  {
   "cell_type": "code",
   "execution_count": 26,
   "metadata": {},
   "outputs": [
    {
     "data": {
      "text/plain": [
       "[('20', (7, 'neque aenean auctor gravida sem praesent id massa')),\n",
       " ('88', (12, 'enim in tempor turpis nec euismod scelerisque quam')),\n",
       " ('77',\n",
       "  (15, 'est lacinia nisi venenatis tristique fusce congue diam id ornare')),\n",
       " ('10', (9, 'aliquam non mauris morbi non lectus aliquam sit amet diam')),\n",
       " ('40', (13, 'laoreet ut rhoncus'))]"
      ]
     },
     "execution_count": 26,
     "metadata": {},
     "output_type": "execute_result"
    }
   ],
   "source": [
    "productos = ventas.map(lambda x: (x[1],1) )\n",
    "porProducto = productos.reduceByKey(lambda x,y:x+y)\n",
    "joined = porProducto.join(detalle)\n",
    "joined.take(5)"
   ]
  },
  {
   "cell_type": "code",
   "execution_count": 27,
   "metadata": {},
   "outputs": [
    {
     "name": "stdout",
     "output_type": "stream",
     "text": [
      "El producto mas vendido es nam congue risus semper porta volutpat quam pede, con 17 unidades\n"
     ]
    }
   ],
   "source": [
    "prodMasVendido = joined.reduce(lambda x,y: x if x[1][0] > y[1][0] else y)\n",
    "print(\"El producto mas vendido es %s, con %d unidades\"%(prodMasVendido[1][1],prodMasVendido[1][0]))"
   ]
  },
  {
   "cell_type": "markdown",
   "metadata": {},
   "source": [
    "B. Cuál es la categoría de productos más vendida."
   ]
  },
  {
   "cell_type": "code",
   "execution_count": 28,
   "metadata": {},
   "outputs": [
    {
     "name": "stdout",
     "output_type": "stream",
     "text": [
      "La categoria mas vendida es Computacion\n"
     ]
    }
   ],
   "source": [
    "porCategoria = detalle.map(lambda x: (x[2],1)).reduceByKey(lambda x,y:x+y)\n",
    "maxCategoria = porCategoria.reduce(lambda x,y: x if x[1]>y[1] else y)\n",
    "print(\"La categoria mas vendida es %s\"%maxCategoria[0])"
   ]
  },
  {
   "cell_type": "markdown",
   "metadata": {},
   "source": [
    "C. Cuál es el top5 de productos más vendidos generando un RDD con (código de\n",
    "producto, descripción, cantidad de ventas)"
   ]
  },
  {
   "cell_type": "code",
   "execution_count": 29,
   "metadata": {},
   "outputs": [
    {
     "data": {
      "text/plain": [
       "[('71', 'nam congue risus semper porta volutpat quam pede', 17),\n",
       " ('65', 'id pretium iaculis diam', 16),\n",
       " ('77',\n",
       "  'est lacinia nisi venenatis tristique fusce congue diam id ornare',\n",
       "  15),\n",
       " ('80',\n",
       "  'mauris viverra diam vitae quam suspendisse potenti nullam porttitor lacus',\n",
       "  15),\n",
       " ('15', 'ante ipsum primis in faucibus', 15)]"
      ]
     },
     "execution_count": 29,
     "metadata": {},
     "output_type": "execute_result"
    }
   ],
   "source": [
    "descripciones = detalle.map(lambda x: (x[0],x[1]))\n",
    "joined_prod_desc = porProducto.join(detalle)\n",
    "joined_prod_desc.take(5)\n",
    "top5prod = joined_prod_desc.map(lambda x: (x[0],x[1][1],x[1][0])).takeOrdered(5, lambda x: -x[2])\n",
    "top5RDD = sc.parallelize(top5prod)\n",
    "top5RDD.take(10)"
   ]
  },
  {
   "cell_type": "markdown",
   "metadata": {},
   "source": [
    "D. Cuál es el producto que registró mayor aumento de precio en el último año, tomando\n",
    "para este análisis solo los productos que cuenten con al menos 50 ventas en el último\n",
    "año."
   ]
  },
  {
   "cell_type": "code",
   "execution_count": 30,
   "metadata": {},
   "outputs": [
    {
     "name": "stdout",
     "output_type": "stream",
     "text": [
      "El producto con maximo aumento es erat nulla tempus vivamus in felis eu sapien, con un aumento proporcional de 8.82\n"
     ]
    }
   ],
   "source": [
    "from datetime import datetime as dt\n",
    "productosVendidosUltAnio = ventas.filter(lambda x: dt.strptime(x[0],'%m/%d/%Y') > dt.strptime('01/01/2019','%d/%m/%Y'))\n",
    "productosConCantVentasOk = productosVendidosUltAnio.map(lambda x: (x[1],1)).reduceByKey(lambda x,y:x+y).filter(lambda x: x[1]>=10)\n",
    "productosConListaDePrecios = productosVendidosUltAnio.map(lambda x: (x[1],int(x[2]))).groupByKey()\n",
    "joined = (productosConCantVentasOk.join(productosConListaDePrecios).map(lambda x: (x[0],list(x[1][1])))).join(detalle)\n",
    "productoMaxAumento = joined.map(lambda x: (x[0],max(x[1][0])/min(x[1][0]),x[1][1])).reduce(lambda x,y: x if x[1]>y[1] else y)\n",
    "print(\"El producto con maximo aumento es %s, con un aumento proporcional de %.2f\"%(productoMaxAumento[2],productoMaxAumento[1]-1))"
   ]
  },
  {
   "cell_type": "code",
   "execution_count": null,
   "metadata": {},
   "outputs": [],
   "source": []
  }
 ],
 "metadata": {
  "kernelspec": {
   "display_name": "Python 3",
   "language": "python",
   "name": "python3"
  },
  "language_info": {
   "codemirror_mode": {
    "name": "ipython",
    "version": 3
   },
   "file_extension": ".py",
   "mimetype": "text/x-python",
   "name": "python",
   "nbconvert_exporter": "python",
   "pygments_lexer": "ipython3",
   "version": "3.7.3"
  }
 },
 "nbformat": 4,
 "nbformat_minor": 4
}
