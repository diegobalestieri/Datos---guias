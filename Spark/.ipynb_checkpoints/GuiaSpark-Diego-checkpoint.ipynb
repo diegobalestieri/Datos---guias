{
 "cells": [
  {
   "cell_type": "code",
   "execution_count": 1,
   "metadata": {},
   "outputs": [],
   "source": [
    "from pyspark import SparkContext\n",
    "sc = SparkContext(\"local\", \"Spark\")"
   ]
  },
  {
   "cell_type": "code",
   "execution_count": 2,
   "metadata": {},
   "outputs": [
    {
     "data": {
      "text/plain": [
       "[['10042', 'Quimica', '5', '02/17/2018'],\n",
       " ['10074', 'Algo1', '1', '12/15/2017'],\n",
       " ['10099', 'Analisis II', '2', '12/02/2018'],\n",
       " ['10024', 'Algo2', '7', '08/15/2017'],\n",
       " ['10098', 'Taller de programacion', '6', '05/20/2017']]"
      ]
     },
     "execution_count": 2,
     "metadata": {},
     "output_type": "execute_result"
    }
   ],
   "source": [
    "datos = sc.textFile(\"ej1.csv\").map(lambda x: x.split(','))\n",
    "datos.take(5)"
   ]
  },
  {
   "cell_type": "code",
   "execution_count": 24,
   "metadata": {},
   "outputs": [
    {
     "data": {
      "text/plain": [
       "101"
      ]
     },
     "execution_count": 24,
     "metadata": {},
     "output_type": "execute_result"
    }
   ],
   "source": [
    "#Ej 1 a\n",
    "aprobados = datos.filter(lambda x : int(x[2])>=4)\n",
    "anios = aprobados.map(lambda x : (x[0], x[3][-4:]))\n",
    "anios.filter(lambda x : x[1] >= '2018').reduceByKey(max).count()"
   ]
  },
  {
   "cell_type": "code",
   "execution_count": 4,
   "metadata": {},
   "outputs": [
    {
     "data": {
      "text/plain": [
       "[('10042', 4.7272727272727275),\n",
       " ('10074', 5.5),\n",
       " ('10099', 4.090909090909091),\n",
       " ('10024', 6.111111111111111),\n",
       " ('10098', 5.076923076923077)]"
      ]
     },
     "execution_count": 4,
     "metadata": {},
     "output_type": "execute_result"
    }
   ],
   "source": [
    "#Ej 1 b\n",
    "promedio = datos.map(lambda x : (x[0], (int(x[2]), 1)))\n",
    "promedio = promedio.reduceByKey(lambda x,y : (x[0]+y[0], x[1]+y[1]))\n",
    "promedio = promedio.mapValues(lambda x : x[0]/x[1])\n",
    "promedio.take(5)"
   ]
  },
  {
   "cell_type": "code",
   "execution_count": 5,
   "metadata": {},
   "outputs": [
    {
     "data": {
      "text/plain": [
       "('10069', 8.5)"
      ]
     },
     "execution_count": 5,
     "metadata": {},
     "output_type": "execute_result"
    }
   ],
   "source": [
    "#Ej 1 c\n",
    "mejor = promedio.reduce(lambda x,y : x if x[1]>=y[1] else y)\n",
    "mejor"
   ]
  },
  {
   "cell_type": "markdown",
   "metadata": {},
   "source": [
    "Ejercicio 2:"
   ]
  },
  {
   "cell_type": "code",
   "execution_count": 6,
   "metadata": {},
   "outputs": [],
   "source": [
    "ventas = sc.textFile(\"ej2.csv\").map(lambda x: x.split(','))\n",
    "prod = sc.textFile(\"ej2_productos.csv\").map(lambda x: x.split(','))"
   ]
  },
  {
   "cell_type": "code",
   "execution_count": 7,
   "metadata": {},
   "outputs": [
    {
     "data": {
      "text/plain": [
       "[['11/04/2019', '20', '338'],\n",
       " ['12/09/2019', '1', '412'],\n",
       " ['07/10/2019', '61', '395'],\n",
       " ['09/26/2019', '94', '52'],\n",
       " ['11/03/2019', '88', '216']]"
      ]
     },
     "execution_count": 7,
     "metadata": {},
     "output_type": "execute_result"
    }
   ],
   "source": [
    "ventas.take(5)"
   ]
  },
  {
   "cell_type": "code",
   "execution_count": 8,
   "metadata": {},
   "outputs": [
    {
     "data": {
      "text/plain": [
       "[['1', 'quis tortor id nulla', 'Computacion'],\n",
       " ['2', 'et tempus semper est quam', 'Comida'],\n",
       " ['3', 'sed tristique in tempus sit amet sem', 'Computacion'],\n",
       " ['4',\n",
       "  'nulla justo aliquam quis turpis eget elit sodales scelerisque',\n",
       "  'Computacion'],\n",
       " ['5', 'interdum venenatis turpis enim', 'Comida']]"
      ]
     },
     "execution_count": 8,
     "metadata": {},
     "output_type": "execute_result"
    }
   ],
   "source": [
    "prod.take(5)"
   ]
  },
  {
   "cell_type": "code",
   "execution_count": 9,
   "metadata": {},
   "outputs": [
    {
     "data": {
      "text/plain": [
       "('71', 17)"
      ]
     },
     "execution_count": 9,
     "metadata": {},
     "output_type": "execute_result"
    }
   ],
   "source": [
    "#Ej 2 a\n",
    "masVendido = ventas.map(lambda x : (x[1], 1))\n",
    "masVendido = masVendido.reduceByKey(lambda x, y: x+y)\n",
    "aux = masVendido.reduce(lambda x,y : x if x[1] > y[1] else y)\n",
    "aux"
   ]
  },
  {
   "cell_type": "code",
   "execution_count": 10,
   "metadata": {},
   "outputs": [
    {
     "data": {
      "text/plain": [
       "('Utileria', 311)"
      ]
     },
     "execution_count": 10,
     "metadata": {},
     "output_type": "execute_result"
    }
   ],
   "source": [
    "#Ej 2 b\n",
    "aux = prod.map(lambda x : (x[0], x[2]))\n",
    "join = aux.join(masVendido)\n",
    "join = join.map(lambda x : (x[1][0], x[1][1]))\n",
    "categorias = join.reduceByKey(lambda x,y : x+y)\n",
    "masVend = categorias.reduce(max)\n",
    "masVend"
   ]
  },
  {
   "cell_type": "code",
   "execution_count": 64,
   "metadata": {},
   "outputs": [
    {
     "data": {
      "text/plain": [
       "[(17, ('71', 'nam congue risus semper porta volutpat quam pede')),\n",
       " (16, ('65', 'id pretium iaculis diam')),\n",
       " (15, ('17', 'mauris eget massa tempor')),\n",
       " (15, ('68', 'diam vitae quam suspendisse potenti nullam porttitor lacus at')),\n",
       " (15,\n",
       "  ('77', 'est lacinia nisi venenatis tristique fusce congue diam id ornare'))]"
      ]
     },
     "execution_count": 64,
     "metadata": {},
     "output_type": "execute_result"
    }
   ],
   "source": [
    "#Ej 2 c\n",
    "aux = prod.map(lambda x : (x[0], x[1]))\n",
    "top = aux.join(masVendido)\n",
    "top = top.map(lambda x : (x[1][1], (x[0], x[1][0])))\n",
    "top.takeOrdered(5,lambda x: -1*x[0])"
   ]
  },
  {
   "cell_type": "code",
   "execution_count": 76,
   "metadata": {},
   "outputs": [
    {
     "data": {
      "text/plain": [
       "('56', 442)"
      ]
     },
     "execution_count": 76,
     "metadata": {},
     "output_type": "execute_result"
    }
   ],
   "source": [
    "#Ej 2 d\n",
    "ultAnio = ventas.filter(lambda x : x[0][-4:] == '2019')\n",
    "masDe10 = ultAnio.map(lambda x : (x[1], 1)).reduceByKey(lambda x,y : x+y).filter(lambda x : x[1] >= 10)\n",
    "aux = ventas.map(lambda x : (x[1], x[2]))\n",
    "join = aux.join(masDe10)\n",
    "join = join.map(lambda x : (x[0], int(x[1][0])))\n",
    "maximo = join.reduceByKey(max)\n",
    "minimo = join.reduceByKey(min)\n",
    "maxMin = maximo.join(minimo)\n",
    "aumento = maxMin.map(lambda x : (x[0], x[1][0] - x[1][1]))\n",
    "aumento.reduce(lambda x, y : x if x[1] > y[1] else y)"
   ]
  },
  {
   "cell_type": "code",
   "execution_count": 77,
   "metadata": {},
   "outputs": [
    {
     "data": {
      "text/plain": [
       "('Otros', 295)"
      ]
     },
     "execution_count": 77,
     "metadata": {},
     "output_type": "execute_result"
    }
   ],
   "source": [
    "#Ej 2 e\n",
    "maxProd = ventas.map(lambda x : (x[1], int(x[2]))).reduceByKey(max)\n",
    "minProd = ventas.map(lambda x : (x[1], int(x[2]))).reduceByKey(min)\n",
    "categorias = prod.map(lambda x : (x[0], x[2]))\n",
    "maxCat = categorias.join(maxProd)\n",
    "minCat = categorias.join(minProd)\n",
    "maxCat = maxCat.map(lambda x : (x[1][0], x[1][1])).reduceByKey(max)\n",
    "minCat = minCat.map(lambda x : (x[1][0], x[1][1])).reduceByKey(max)\n",
    "minMax = maxCat.join(minCat)\n",
    "difCat = minMax.map(lambda x : (x[0], x[1][0] - x[1][1])).reduce(lambda x,y : x if x[1] > y[1] else y)\n",
    "difCat"
   ]
  },
  {
   "cell_type": "markdown",
   "metadata": {},
   "source": [
    "Ejercicio 5:"
   ]
  },
  {
   "cell_type": "code",
   "execution_count": 157,
   "metadata": {},
   "outputs": [
    {
     "data": {
      "text/plain": [
       "[['others', 'throes'],\n",
       " ['breathe', 'beareth'],\n",
       " ['remote', 'meteor'],\n",
       " ['master', 'stream'],\n",
       " ['mothers', 'smother']]"
      ]
     },
     "execution_count": 157,
     "metadata": {},
     "output_type": "execute_result"
    }
   ],
   "source": [
    "textos = sc.textFile(\"alllines.txt\")\n",
    "palabras = textos.flatMap(lambda x : x.split(' ')).filter(lambda x : len(x) >= 7).map(lambda x : x.strip(';\".,?!:')).map(lambda x : x.strip(\"'\")).distinct()\n",
    "palabras = palabras.map(lambda x : (\"\".join(sorted(x)), x))\n",
    "anagramas =  palabras.groupByKey().mapValues(lambda x : list(x)).filter(lambda x : len(x[1]) > 1).map(lambda x : x[1])\n",
    "anagramas.take(5)"
   ]
  },
  {
   "cell_type": "code",
   "execution_count": null,
   "metadata": {},
   "outputs": [],
   "source": []
  }
 ],
 "metadata": {
  "kernelspec": {
   "display_name": "Python 3",
   "language": "python",
   "name": "python3"
  },
  "language_info": {
   "codemirror_mode": {
    "name": "ipython",
    "version": 3
   },
   "file_extension": ".py",
   "mimetype": "text/x-python",
   "name": "python",
   "nbconvert_exporter": "python",
   "pygments_lexer": "ipython3",
   "version": "3.7.3"
  }
 },
 "nbformat": 4,
 "nbformat_minor": 4
}
