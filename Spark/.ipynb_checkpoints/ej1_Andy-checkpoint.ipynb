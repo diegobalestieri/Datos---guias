{
 "cells": [
  {
   "cell_type": "markdown",
   "metadata": {},
   "source": [
    "**1- Se tiene un RDD con el registro de notas de los alumnos de la forma (padrón, materia, nota,\n",
    "fecha). Se pide resolver utilizando PySpark:**\n",
    "- A. Cuántos alumnos aprobaron al menos 1 materia en los últimos 2 años.\n",
    "- B. Un RDD conteniendo el promedio de notas de cada alumno de la forma (padrón, promedio).\n",
    "- C. El nombre y apellido del alumno con mejor promedio. Para esto puede utilizarse un segundo RDD alumnos con registros (padron, nombre y apellido)"
   ]
  },
  {
   "cell_type": "code",
   "execution_count": 2,
   "metadata": {},
   "outputs": [
    {
     "data": {
      "text/plain": [
       "[['10042', 'Quimica', '5', '02/17/2018'],\n",
       " ['10074', 'Algo1', '1', '12/15/2017'],\n",
       " ['10099', 'Analisis II', '2', '12/02/2018'],\n",
       " ['10024', 'Algo2', '7', '08/15/2017'],\n",
       " ['10098', 'Taller de programacion', '6', '05/20/2017'],\n",
       " ['10015', 'Analisis II', '5', '09/09/2018'],\n",
       " ['10037', 'Quimica', '1', '04/21/2019'],\n",
       " ['10013', 'Quimica', '10', '05/29/2019'],\n",
       " ['10062', 'Analisis II', '9', '04/12/2017'],\n",
       " ['10060', 'Algo3', '4', '10/11/2017']]"
      ]
     },
     "execution_count": 2,
     "metadata": {},
     "output_type": "execute_result"
    }
   ],
   "source": [
    "data = sc.textFile(\"ej1.csv\").map(lambda x: x.split(','))\n",
    "data.take(10)"
   ]
  },
  {
   "cell_type": "code",
   "execution_count": 9,
   "metadata": {},
   "outputs": [
    {
     "name": "stdout",
     "output_type": "stream",
     "text": [
      "El ultimo anio, aprobaron 101 alumnos\n"
     ]
    }
   ],
   "source": [
    "aprobadosUltimoAnio = data.filter(lambda x: (int(x[2])>=4) & (x[3]>\"01/01/2017\") )\n",
    "cant_aprobados = aprobadosUltimoAnio.map(lambda x: x[0]).distinct().count()\n",
    "print(\"El ultimo anio, aprobaron %d alumnos\"%cant_aprobados)"
   ]
  },
  {
   "cell_type": "code",
   "execution_count": 41,
   "metadata": {},
   "outputs": [
    {
     "data": {
      "text/plain": [
       "[('10042', 4.7272727272727275),\n",
       " ('10099', 4.090909090909091),\n",
       " ('10098', 5.076923076923077),\n",
       " ('10015', 5.25),\n",
       " ('10037', 5.133333333333334)]"
      ]
     },
     "execution_count": 41,
     "metadata": {},
     "output_type": "execute_result"
    }
   ],
   "source": [
    "porAlumno = data.map(lambda x: (x[0],(int(x[2]),1)))\n",
    "promPorAlumno = porAlumno.reduceByKey(lambda x,y:(x[0]+y[0],x[1]+y[1])).map(lambda x:(x[0],x[1][0]/x[1][1]))\n",
    "promPorAlumno.take(5)"
   ]
  },
  {
   "cell_type": "code",
   "execution_count": 56,
   "metadata": {},
   "outputs": [
    {
     "name": "stdout",
     "output_type": "stream",
     "text": [
      "El nombre del alumno con mejor promedio es Mirella Rosten, con promedio 8.50 \n"
     ]
    }
   ],
   "source": [
    "nombres = sc.textFile(\"ej1_nombres.csv\").map(lambda x: x.split(','))\n",
    "joined = promPorAlumno.join(nombres)\n",
    "mayorPromedio = joined.reduce(lambda x,y: x if x[1]>y[1] else y)\n",
    "print(\"El nombre del alumno con mejor promedio es %s, con promedio %.2f \"%(mayorPromedio[1][1],mayorPromedio[1][0]))"
   ]
  },
  {
   "cell_type": "code",
   "execution_count": null,
   "metadata": {},
   "outputs": [],
   "source": []
  }
 ],
 "metadata": {
  "kernelspec": {
   "display_name": "Python 3",
   "language": "python",
   "name": "python3"
  },
  "language_info": {
   "codemirror_mode": {
    "name": "ipython",
    "version": 3
   },
   "file_extension": ".py",
   "mimetype": "text/x-python",
   "name": "python",
   "nbconvert_exporter": "python",
   "pygments_lexer": "ipython3",
   "version": "3.7.3"
  }
 },
 "nbformat": 4,
 "nbformat_minor": 4
}
